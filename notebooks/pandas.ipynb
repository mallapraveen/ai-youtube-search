{
 "cells": [
  {
   "cell_type": "code",
   "execution_count": 4,
   "metadata": {},
   "outputs": [],
   "source": [
    "import pandas as pd\n"
   ]
  },
  {
   "cell_type": "code",
   "execution_count": 5,
   "metadata": {},
   "outputs": [
    {
     "name": "stdout",
     "output_type": "stream",
     "text": [
      "Empty DataFrame\n",
      "Columns: [title, url, id, start, end, text]\n",
      "Index: []\n"
     ]
    }
   ],
   "source": [
    "data = pd.DataFrame(columns=['title','url','id','start','end','text'])\n",
    "print(data)"
   ]
  },
  {
   "cell_type": "code",
   "execution_count": 6,
   "metadata": {},
   "outputs": [],
   "source": [
    "from pathlib import Path\n",
    "data.to_csv(str(Path.cwd() / \"data_set.csv\"),sep = ',',index=False)"
   ]
  },
  {
   "cell_type": "code",
   "execution_count": 7,
   "metadata": {},
   "outputs": [],
   "source": [
    "import yt_dlp\n",
    "from pathlib import Path\n",
    "\n",
    "ydl_opts = {\n",
    "        'format': 'bestaudio/best',\n",
    "        'outtmpl': '%(title)s.%(ext)s',\n",
    "        'postprocessors': [{\n",
    "        'key': 'FFmpegExtractAudio',\n",
    "        'preferredcodec': 'mp3',\n",
    "        'preferredquality': '192',\n",
    "        }],\n",
    "        'extractaudio': True,\n",
    "        'audioformat': 'mp3',\n",
    "        \n",
    "    }\n",
    "ydl = yt_dlp.YoutubeDL(ydl_opts)\n",
    "url = 'https://www.youtube.com/watch?v=J4Wdy0Wc_xQ&list=PLblh5JKOoLUIE96dI3U7oxHaCAbZgfhHk'"
   ]
  },
  {
   "cell_type": "code",
   "execution_count": 9,
   "metadata": {},
   "outputs": [
    {
     "name": "stdout",
     "output_type": "stream",
     "text": [
      "[youtube:tab] Extracting URL: https://www.youtube.com/watch?v=J4Wdy0Wc_xQ&list=PLblh5JKOoLUIE96dI3U7oxHaCAbZgfhHk\n",
      "[youtube:tab] Downloading playlist PLblh5JKOoLUIE96dI3U7oxHaCAbZgfhHk - add --no-playlist to download just the video J4Wdy0Wc_xQ\n",
      "[youtube:tab] PLblh5JKOoLUIE96dI3U7oxHaCAbZgfhHk: Downloading webpage\n",
      "[youtube:tab] Extracting URL: https://www.youtube.com/playlist?list=PLblh5JKOoLUIE96dI3U7oxHaCAbZgfhHk\n",
      "[youtube:tab] PLblh5JKOoLUIE96dI3U7oxHaCAbZgfhHk: Downloading webpage\n",
      "[youtube:tab] PLblh5JKOoLUIE96dI3U7oxHaCAbZgfhHk: Redownloading playlist API JSON with unavailable videos\n",
      "[download] Downloading playlist: Random Forests\n",
      "[youtube:tab] Playlist Random Forests: Downloading 3 items of 3\n",
      "[download] Downloading item 1 of 3\n",
      "[youtube] Extracting URL: https://www.youtube.com/watch?v=J4Wdy0Wc_xQ\n",
      "[youtube] J4Wdy0Wc_xQ: Downloading webpage\n",
      "[youtube] J4Wdy0Wc_xQ: Downloading android player API JSON\n",
      "[download] Downloading item 2 of 3\n",
      "[youtube] Extracting URL: https://www.youtube.com/watch?v=sQ870aTKqiM\n",
      "[youtube] sQ870aTKqiM: Downloading webpage\n",
      "[youtube] sQ870aTKqiM: Downloading android player API JSON\n",
      "[download] Downloading item 3 of 3\n",
      "[youtube] Extracting URL: https://www.youtube.com/watch?v=6EXPYzbfLCE\n",
      "[youtube] 6EXPYzbfLCE: Downloading webpage\n",
      "[youtube] 6EXPYzbfLCE: Downloading android player API JSON\n",
      "[download] Finished downloading playlist: Random Forests\n"
     ]
    }
   ],
   "source": [
    "\n",
    "playlist_info = ydl.extract_info(url, download=False)\n",
    "#For the information about videos in playlist\n",
    "video_info = playlist_info.get('entries',None)"
   ]
  },
  {
   "cell_type": "code",
   "execution_count": 10,
   "metadata": {},
   "outputs": [],
   "source": [
    "import whisper\n",
    "def transcribe(audio_url:str)->str:\n",
    "    model = whisper.load_model(\"tiny\")\n",
    "    result = model.transcribe(audio_url,fp16=False)\n",
    "    return result\n"
   ]
  },
  {
   "cell_type": "code",
   "execution_count": 11,
   "metadata": {},
   "outputs": [],
   "source": [
    "import pandas as pd\n",
    "#created empty dataframe to store\n",
    "data = pd.DataFrame(columns=['title','url','id','start','end','text'])\n",
    "data.to_csv(str(Path.cwd() / \"data_set.csv\"),sep = ',',index=False)"
   ]
  },
  {
   "cell_type": "code",
   "execution_count": 12,
   "metadata": {},
   "outputs": [
    {
     "name": "stdout",
     "output_type": "stream",
     "text": [
      "[youtube] Extracting URL: https://www.youtube.com/watch?v=J4Wdy0Wc_xQ\n",
      "[youtube] J4Wdy0Wc_xQ: Downloading webpage\n",
      "[youtube] J4Wdy0Wc_xQ: Downloading android player API JSON\n",
      "[info] J4Wdy0Wc_xQ: Downloading 1 format(s): 251\n",
      "[download] StatQuest： Random Forests Part 1 - Building, Using and Evaluating.webm has already been downloaded\n",
      "[download] 100% of    7.87MiB\n",
      "[ExtractAudio] Destination: StatQuest： Random Forests Part 1 - Building, Using and Evaluating.mp3\n",
      "Deleting original file StatQuest： Random Forests Part 1 - Building, Using and Evaluating.webm (pass -k to keep)\n"
     ]
    }
   ],
   "source": [
    "#Extracting text\n",
    "for i in range(len(video_info)):\n",
    "  video = video_info[i]\n",
    "  url = video['webpage_url']\n",
    "  ydl.download([url])\n",
    "  filename = ydl.prepare_filename(video)\n",
    "  filename = filename.replace('webm','mp3')\n",
    "  result = transcribe(filename)\n",
    "  seg = result['segments']\n",
    "  df = pd.DataFrame(seg, columns=['start', 'end', 'text','id'])\n",
    "  df['id'] = video['id']\n",
    "  df['title'] = video['title']\n",
    "  df['url'] = video['webpage_url']\n",
    "  df['start'].astype('float32')\n",
    "  df['end'].astype('float32')\n",
    "  df = df.reindex(columns=['title','url','id','start','end','text'])\n",
    "  dataset = pd.read_csv(r'C:\\Users\\NHI360\\Desktop\\ai-youtube-search\\notebooks\\data_set.csv')\n",
    "  dataset = pd.concat([dataset,df],axis=0)\n",
    "  dataset.to_csv(str(Path.cwd() / \"data_set.csv\"),sep = ',',index=False)\n",
    "  break"
   ]
  },
  {
   "cell_type": "code",
   "execution_count": 29,
   "metadata": {},
   "outputs": [
    {
     "ename": "TypeError",
     "evalue": "groupby() got an unexpected keyword argument 'inplace'",
     "output_type": "error",
     "traceback": [
      "\u001b[1;31m---------------------------------------------------------------------------\u001b[0m",
      "\u001b[1;31mTypeError\u001b[0m                                 Traceback (most recent call last)",
      "Cell \u001b[1;32mIn[29], line 2\u001b[0m\n\u001b[0;32m      1\u001b[0m dataset \u001b[39m=\u001b[39m pd\u001b[39m.\u001b[39mread_csv(\u001b[39mr\u001b[39m\u001b[39m'\u001b[39m\u001b[39mC:\u001b[39m\u001b[39m\\\u001b[39m\u001b[39mUsers\u001b[39m\u001b[39m\\\u001b[39m\u001b[39mNHI360\u001b[39m\u001b[39m\\\u001b[39m\u001b[39mDesktop\u001b[39m\u001b[39m\\\u001b[39m\u001b[39mai-youtube-search\u001b[39m\u001b[39m\\\u001b[39m\u001b[39mnotebooks\u001b[39m\u001b[39m\\\u001b[39m\u001b[39mdata_set.csv\u001b[39m\u001b[39m'\u001b[39m)\n\u001b[1;32m----> 2\u001b[0m dataset \u001b[39m=\u001b[39m dataset\u001b[39m.\u001b[39;49mgroupby(dataset\u001b[39m.\u001b[39;49mindex\u001b[39m/\u001b[39;49m\u001b[39m/\u001b[39;49m\u001b[39m4\u001b[39;49m,inplace\u001b[39m=\u001b[39;49m\u001b[39mTrue\u001b[39;49;00m)\u001b[39m.\u001b[39magg({\u001b[39m'\u001b[39m\u001b[39mtitle\u001b[39m\u001b[39m'\u001b[39m:\u001b[39m'\u001b[39m\u001b[39mfirst\u001b[39m\u001b[39m'\u001b[39m,\u001b[39m'\u001b[39m\u001b[39mstart\u001b[39m\u001b[39m'\u001b[39m:\u001b[39m'\u001b[39m\u001b[39mfirst\u001b[39m\u001b[39m'\u001b[39m,\u001b[39m'\u001b[39m\u001b[39mend\u001b[39m\u001b[39m'\u001b[39m:\u001b[39m'\u001b[39m\u001b[39mlast\u001b[39m\u001b[39m'\u001b[39m,\u001b[39m'\u001b[39m\u001b[39mtext\u001b[39m\u001b[39m'\u001b[39m : \u001b[39mlambda\u001b[39;00m x:\u001b[39m'\u001b[39m\u001b[39m'\u001b[39m\u001b[39m.\u001b[39mjoin(x)})\n\u001b[0;32m      3\u001b[0m dataset[\u001b[39m'\u001b[39m\u001b[39mduration\u001b[39m\u001b[39m'\u001b[39m] \u001b[39m=\u001b[39m dataset[\u001b[39m'\u001b[39m\u001b[39mend\u001b[39m\u001b[39m'\u001b[39m]\u001b[39m-\u001b[39mdataset[\u001b[39m'\u001b[39m\u001b[39mstart\u001b[39m\u001b[39m'\u001b[39m]\n\u001b[0;32m      4\u001b[0m dataset\u001b[39m.\u001b[39mto_csv(\u001b[39mstr\u001b[39m(Path\u001b[39m.\u001b[39mcwd() \u001b[39m/\u001b[39m \u001b[39m\"\u001b[39m\u001b[39mFinal_data_set.csv\u001b[39m\u001b[39m\"\u001b[39m),sep \u001b[39m=\u001b[39m \u001b[39m'\u001b[39m\u001b[39m,\u001b[39m\u001b[39m'\u001b[39m,index\u001b[39m=\u001b[39m\u001b[39mFalse\u001b[39;00m)\n",
      "\u001b[1;31mTypeError\u001b[0m: groupby() got an unexpected keyword argument 'inplace'"
     ]
    }
   ],
   "source": [
    "dataset = pd.read_csv(r'C:\\Users\\NHI360\\Desktop\\ai-youtube-search\\notebooks\\data_set.csv')\n",
    "dataset = dataset.groupby(dataset.index//4).agg({'title':'first','start':'first','end':'last','text' : lambda x:''.join(x)})\n",
    "dataset['duration'] = dataset['end']-dataset['start']\n",
    "dataset.to_csv(str(Path.cwd() / \"Final_data_set.csv\"),sep = ',',index=False)"
   ]
  },
  {
   "cell_type": "code",
   "execution_count": null,
   "metadata": {},
   "outputs": [],
   "source": []
  },
  {
   "cell_type": "code",
   "execution_count": null,
   "metadata": {},
   "outputs": [],
   "source": []
  }
 ],
 "metadata": {
  "kernelspec": {
   "display_name": "Python 3",
   "language": "python",
   "name": "python3"
  },
  "language_info": {
   "codemirror_mode": {
    "name": "ipython",
    "version": 3
   },
   "file_extension": ".py",
   "mimetype": "text/x-python",
   "name": "python",
   "nbconvert_exporter": "python",
   "pygments_lexer": "ipython3",
   "version": "3.8.16"
  },
  "orig_nbformat": 4
 },
 "nbformat": 4,
 "nbformat_minor": 2
}
