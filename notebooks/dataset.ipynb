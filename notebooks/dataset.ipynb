{
 "cells": [
  {
   "cell_type": "code",
   "execution_count": 1,
   "metadata": {},
   "outputs": [
    {
     "name": "stdout",
     "output_type": "stream",
     "text": [
      "Collecting datasetsNote: you may need to restart the kernel to use updated packages.\n",
      "\n",
      "  Using cached datasets-2.11.0-py3-none-any.whl (468 kB)\n",
      "Requirement already satisfied: packaging in c:\\users\\nhi360\\desktop\\ml-youtube-search\\env\\lib\\site-packages (from datasets) (23.0)\n",
      "Requirement already satisfied: requests>=2.19.0 in c:\\users\\nhi360\\desktop\\ml-youtube-search\\env\\lib\\site-packages (from datasets) (2.28.2)\n",
      "Collecting responses<0.19\n",
      "  Using cached responses-0.18.0-py3-none-any.whl (38 kB)\n",
      "Collecting fsspec[http]>=2021.11.1\n",
      "  Using cached fsspec-2023.4.0-py3-none-any.whl (153 kB)\n",
      "Requirement already satisfied: tqdm>=4.62.1 in c:\\users\\nhi360\\desktop\\ml-youtube-search\\env\\lib\\site-packages (from datasets) (4.65.0)\n",
      "Collecting aiohttp\n",
      "  Using cached aiohttp-3.8.4-cp38-cp38-win_amd64.whl (324 kB)\n",
      "Requirement already satisfied: numpy>=1.17 in c:\\users\\nhi360\\desktop\\ml-youtube-search\\env\\lib\\site-packages (from datasets) (1.23.5)\n",
      "Collecting huggingface-hub<1.0.0,>=0.11.0\n",
      "  Using cached huggingface_hub-0.13.4-py3-none-any.whl (200 kB)\n",
      "Collecting multiprocess\n",
      "  Using cached multiprocess-0.70.14-py38-none-any.whl (132 kB)\n",
      "Requirement already satisfied: pandas in c:\\users\\nhi360\\desktop\\ml-youtube-search\\env\\lib\\site-packages (from datasets) (1.5.3)\n",
      "Collecting pyyaml>=5.1\n",
      "  Using cached PyYAML-6.0-cp38-cp38-win_amd64.whl (155 kB)\n",
      "Collecting pyarrow>=8.0.0\n",
      "  Using cached pyarrow-11.0.0-cp38-cp38-win_amd64.whl (20.6 MB)\n",
      "Collecting xxhash\n",
      "  Using cached xxhash-3.2.0-cp38-cp38-win_amd64.whl (30 kB)\n",
      "Collecting dill<0.3.7,>=0.3.0\n",
      "  Using cached dill-0.3.6-py3-none-any.whl (110 kB)\n",
      "Requirement already satisfied: charset-normalizer<4.0,>=2.0 in c:\\users\\nhi360\\desktop\\ml-youtube-search\\env\\lib\\site-packages (from aiohttp->datasets) (3.1.0)\n",
      "Collecting aiosignal>=1.1.2\n",
      "  Using cached aiosignal-1.3.1-py3-none-any.whl (7.6 kB)\n",
      "Collecting attrs>=17.3.0\n",
      "  Using cached attrs-22.2.0-py3-none-any.whl (60 kB)\n",
      "Collecting yarl<2.0,>=1.0\n",
      "  Using cached yarl-1.8.2-cp38-cp38-win_amd64.whl (56 kB)\n",
      "Collecting multidict<7.0,>=4.5\n",
      "  Using cached multidict-6.0.4-cp38-cp38-win_amd64.whl (28 kB)\n",
      "Collecting frozenlist>=1.1.1\n",
      "  Using cached frozenlist-1.3.3-cp38-cp38-win_amd64.whl (34 kB)\n",
      "Collecting async-timeout<5.0,>=4.0.0a3\n",
      "  Using cached async_timeout-4.0.2-py3-none-any.whl (5.8 kB)\n",
      "Requirement already satisfied: filelock in c:\\users\\nhi360\\desktop\\ml-youtube-search\\env\\lib\\site-packages (from huggingface-hub<1.0.0,>=0.11.0->datasets) (3.10.0)\n",
      "Requirement already satisfied: typing-extensions>=3.7.4.3 in c:\\users\\nhi360\\desktop\\ml-youtube-search\\env\\lib\\site-packages (from huggingface-hub<1.0.0,>=0.11.0->datasets) (4.5.0)\n",
      "Requirement already satisfied: certifi>=2017.4.17 in c:\\users\\nhi360\\desktop\\ml-youtube-search\\env\\lib\\site-packages (from requests>=2.19.0->datasets) (2022.12.7)\n",
      "Requirement already satisfied: urllib3<1.27,>=1.21.1 in c:\\users\\nhi360\\desktop\\ml-youtube-search\\env\\lib\\site-packages (from requests>=2.19.0->datasets) (1.26.15)\n",
      "Requirement already satisfied: idna<4,>=2.5 in c:\\users\\nhi360\\desktop\\ml-youtube-search\\env\\lib\\site-packages (from requests>=2.19.0->datasets) (3.4)\n",
      "Requirement already satisfied: colorama in c:\\users\\nhi360\\desktop\\ml-youtube-search\\env\\lib\\site-packages (from tqdm>=4.62.1->datasets) (0.4.6)\n",
      "Requirement already satisfied: pytz>=2020.1 in c:\\users\\nhi360\\desktop\\ml-youtube-search\\env\\lib\\site-packages (from pandas->datasets) (2022.7.1)\n",
      "Requirement already satisfied: python-dateutil>=2.8.1 in c:\\users\\nhi360\\desktop\\ml-youtube-search\\env\\lib\\site-packages (from pandas->datasets) (2.8.2)\n",
      "Requirement already satisfied: six>=1.5 in c:\\users\\nhi360\\desktop\\ml-youtube-search\\env\\lib\\site-packages (from python-dateutil>=2.8.1->pandas->datasets) (1.16.0)\n",
      "Installing collected packages: xxhash, pyyaml, pyarrow, multidict, fsspec, frozenlist, dill, attrs, async-timeout, yarl, responses, multiprocess, huggingface-hub, aiosignal, aiohttp, datasets\n",
      "Successfully installed aiohttp-3.8.4 aiosignal-1.3.1 async-timeout-4.0.2 attrs-22.2.0 datasets-2.11.0 dill-0.3.6 frozenlist-1.3.3 fsspec-2023.4.0 huggingface-hub-0.13.4 multidict-6.0.4 multiprocess-0.70.14 pyarrow-11.0.0 pyyaml-6.0 responses-0.18.0 xxhash-3.2.0 yarl-1.8.2\n"
     ]
    }
   ],
   "source": [
    "pip install datasets"
   ]
  },
  {
   "cell_type": "code",
   "execution_count": 2,
   "metadata": {},
   "outputs": [
    {
     "name": "stderr",
     "output_type": "stream",
     "text": [
      "c:\\Users\\NHI360\\Desktop\\ml-youtube-search\\env\\lib\\site-packages\\tqdm\\auto.py:21: TqdmWarning: IProgress not found. Please update jupyter and ipywidgets. See https://ipywidgets.readthedocs.io/en/stable/user_install.html\n",
      "  from .autonotebook import tqdm as notebook_tqdm\n"
     ]
    }
   ],
   "source": [
    "from datasets import load_dataset\n",
    "import pandas as pd\n",
    "from pathlib import Path"
   ]
  },
  {
   "cell_type": "code",
   "execution_count": 3,
   "metadata": {},
   "outputs": [
    {
     "name": "stderr",
     "output_type": "stream",
     "text": [
      "Found cached dataset json (C:/Users/NHI360/.cache/huggingface/datasets/jamescalam___json/jamescalam--youtube-transcriptions-08d889f6a5386b9b/0.0.0/fe5dd6ea2639a6df622901539cb550cf8797e5a6b2dd7af1cf934bed8e233e6e)\n"
     ]
    }
   ],
   "source": [
    "from datasets import load_dataset\n",
    "\n",
    "# first download the dataset\n",
    "data = load_dataset(\n",
    "    'jamescalam/youtube-transcriptions',\n",
    "    split='train'\n",
    ")\n",
    "\n",
    "new_data = []  # this will store adjusted data\n",
    "\n",
    "window = 6  # number of sentences to combine\n",
    "stride = 3  # number of sentences to 'stride' over, used to create overlap\n",
    "\n",
    "for i in range(0, len(data), stride):\n",
    "    i_end = min(len(data)-1, i+window)\n",
    "    if data[i]['title'] != data[i_end]['title']:\n",
    "        # in this case we skip this entry as we have start/end of two videos\n",
    "        continue\n",
    "    # create larger text chunk\n",
    "    text = ' '.join(data[i:i_end]['text'])\n",
    "    # add to adjusted data list\n",
    "    new_data.append({\n",
    "        'start': data[i]['start'],\n",
    "        'end': data[i_end]['end'],\n",
    "        'title': data[i]['title'],\n",
    "        'text': text,\n",
    "        'id': data[i]['id'],\n",
    "        'url': data[i]['url'],\n",
    "        'published': data[i]['published']\n",
    "    })\n"
   ]
  },
  {
   "cell_type": "code",
   "execution_count": 4,
   "metadata": {},
   "outputs": [],
   "source": [
    "j_df = pd.DataFrame(new_data)\n"
   ]
  },
  {
   "cell_type": "code",
   "execution_count": 5,
   "metadata": {},
   "outputs": [
    {
     "data": {
      "text/plain": [
       "Index(['start', 'end', 'title', 'text', 'id', 'url'], dtype='object')"
      ]
     },
     "execution_count": 5,
     "metadata": {},
     "output_type": "execute_result"
    }
   ],
   "source": [
    "\n",
    "j_df = j_df.drop(['published'],axis=1)\n",
    "j_df.columns"
   ]
  },
  {
   "cell_type": "code",
   "execution_count": 6,
   "metadata": {},
   "outputs": [],
   "source": [
    "j_df['start'] = j_df['start'].astype(\"float32\")\n",
    "j_df['end'] = j_df['end'].astype(\"float32\")\n",
    "j_df['duration'] = j_df['end']-j_df['start']\n",
    "j_df = j_df.reindex(\n",
    "            columns=[\"title\", \"url\", \"id\", \"start\", \"end\", \"duration\", \"text\"]\n",
    "    )"
   ]
  },
  {
   "cell_type": "code",
   "execution_count": 7,
   "metadata": {},
   "outputs": [],
   "source": [
    "path = Path.cwd().parent\n",
    "data_path = str(path / 'data_files' / 'videos_info' /'playlist_info' / 'jamescalam_youtube-transcriptions.csv')\n",
    "j_df.to_csv(data_path,sep=',')"
   ]
  },
  {
   "cell_type": "code",
   "execution_count": 8,
   "metadata": {},
   "outputs": [
    {
     "name": "stderr",
     "output_type": "stream",
     "text": [
      "Found cached dataset youtube-transcription (C:/Users/NHI360/.cache/huggingface/datasets/ashraq___youtube-transcription/default/1.2.0/bec10e3d58fe13b3eee1ebefb584ecba03abfcced454bf26ad344ff60f261cfa)\n",
      "100%|██████████| 1/1 [00:00<00:00, 53.20it/s]\n"
     ]
    }
   ],
   "source": [
    "data =load_dataset('ashraq/youtube-transcription')"
   ]
  },
  {
   "cell_type": "code",
   "execution_count": 9,
   "metadata": {},
   "outputs": [],
   "source": [
    "a_df = pd.DataFrame(data['train'])"
   ]
  },
  {
   "cell_type": "code",
   "execution_count": 10,
   "metadata": {},
   "outputs": [
    {
     "data": {
      "text/plain": [
       "Index(['video_id', 'title', 'text', 'start_timestamp', 'end_timestamp',\n",
       "       'start_second', 'end_second', 'url', 'thumbnail'],\n",
       "      dtype='object')"
      ]
     },
     "execution_count": 10,
     "metadata": {},
     "output_type": "execute_result"
    }
   ],
   "source": [
    "a_df.columns"
   ]
  },
  {
   "cell_type": "code",
   "execution_count": 11,
   "metadata": {},
   "outputs": [
    {
     "data": {
      "text/plain": [
       "Index(['id', 'title', 'text', 'start', 'end', 'url'], dtype='object')"
      ]
     },
     "execution_count": 11,
     "metadata": {},
     "output_type": "execute_result"
    }
   ],
   "source": [
    "a_df = a_df.drop(['start_timestamp','end_timestamp','thumbnail'],axis=1)\n",
    "a_df = a_df.rename(columns={'video_id':'id','start_second':'start','end_second':'end'})\n",
    "a_df.columns"
   ]
  },
  {
   "cell_type": "code",
   "execution_count": 12,
   "metadata": {},
   "outputs": [],
   "source": [
    "a_df['start'] = a_df['start'].astype(\"float32\")\n",
    "a_df['end'] = a_df['end'].astype(\"float32\")\n",
    "a_df['duration'] = a_df['end']-a_df['start']\n",
    "a_df = a_df.reindex(\n",
    "            columns=[\"title\", \"url\", \"id\", \"start\", \"end\", \"duration\", \"text\"]\n",
    "    )"
   ]
  },
  {
   "cell_type": "code",
   "execution_count": 13,
   "metadata": {},
   "outputs": [],
   "source": [
    "path = Path.cwd().parent\n",
    "data_path = str(path / 'data_files' / 'videos_info' /'playlist_info' / 'ashraq_youtube-transcription.csv')\n",
    "a_df.to_csv(data_path,sep=',')"
   ]
  },
  {
   "cell_type": "code",
   "execution_count": 14,
   "metadata": {},
   "outputs": [
    {
     "name": "stderr",
     "output_type": "stream",
     "text": [
      "Found cached dataset json (C:/Users/NHI360/.cache/huggingface/datasets/pinecone___json/pinecone--yt-transcriptions-4383a838c5c147e8/0.0.0/fe5dd6ea2639a6df622901539cb550cf8797e5a6b2dd7af1cf934bed8e233e6e)\n",
      "100%|██████████| 1/1 [00:00<00:00, 35.17it/s]\n"
     ]
    }
   ],
   "source": [
    "p_data = load_dataset('pinecone/yt-transcriptions')"
   ]
  },
  {
   "cell_type": "code",
   "execution_count": 15,
   "metadata": {},
   "outputs": [],
   "source": [
    "p_df = pd.DataFrame(p_data['train'])"
   ]
  },
  {
   "cell_type": "code",
   "execution_count": 16,
   "metadata": {},
   "outputs": [
    {
     "data": {
      "text/plain": [
       "Index(['video_id', 'text', 'start_second', 'end_second', 'url', 'title',\n",
       "       'thumbnail'],\n",
       "      dtype='object')"
      ]
     },
     "execution_count": 16,
     "metadata": {},
     "output_type": "execute_result"
    }
   ],
   "source": [
    "p_df.columns"
   ]
  },
  {
   "cell_type": "code",
   "execution_count": 17,
   "metadata": {},
   "outputs": [],
   "source": [
    "p_df = p_df.drop(['thumbnail'],axis=1)\n",
    "p_df = p_df.rename(columns={'video_id':'id','start_second':'start','end_second':'end'})"
   ]
  },
  {
   "cell_type": "code",
   "execution_count": 18,
   "metadata": {},
   "outputs": [],
   "source": [
    "p_df['start'] = p_df['start'].astype(\"float32\")\n",
    "p_df['end'] = p_df['end'].astype(\"float32\")\n",
    "p_df['duration'] = p_df['end']-p_df['start']\n",
    "p_df = p_df.reindex(\n",
    "            columns=[\"title\", \"url\", \"id\", \"start\", \"end\", \"duration\", \"text\"]\n",
    "    )"
   ]
  },
  {
   "cell_type": "code",
   "execution_count": 19,
   "metadata": {},
   "outputs": [],
   "source": [
    "path = Path.cwd().parent\n",
    "data_path = str(path / 'data_files' / 'videos_info' /'playlist_info' / 'pinecone_youtube-transcription.csv')\n",
    "p_df.to_csv(data_path,sep=',')"
   ]
  },
  {
   "cell_type": "code",
   "execution_count": 31,
   "metadata": {},
   "outputs": [],
   "source": [
    "#combinin all datasets\n",
    "import pandas as pd\n",
    "ml = pd.read_csv(r'C:\\Users\\NHI360\\Desktop\\ai-youtube-search\\data_files\\videos_info\\playlist_info\\Machine Learning.csv')\n",
    "jamescalam = pd.read_csv(r\"C:\\Users\\NHI360\\Desktop\\ai-youtube-search\\data_files\\videos_info\\playlist_info\\jamescalam_youtube-transcriptions.csv\")\n",
    "ashraq = pd.read_csv(r\"C:\\Users\\NHI360\\Desktop\\ai-youtube-search\\data_files\\videos_info\\playlist_info\\ashraq_youtube-transcription.csv\")\n",
    "pinecone = pd.read_csv(r\"C:\\Users\\NHI360\\Desktop\\ai-youtube-search\\data_files\\videos_info\\playlist_info\\pinecone_youtube-transcription.csv\")"
   ]
  },
  {
   "cell_type": "code",
   "execution_count": 32,
   "metadata": {},
   "outputs": [],
   "source": [
    "final_dataset = pd.concat([ml,ashraq,pinecone,jamescalam],axis=0,ignore_index=True)"
   ]
  },
  {
   "cell_type": "code",
   "execution_count": 33,
   "metadata": {},
   "outputs": [],
   "source": [
    "final_dataset.columns\n",
    "final_dataset = final_dataset.drop('Unnamed: 0',axis=1)\n",
    "\n"
   ]
  },
  {
   "cell_type": "code",
   "execution_count": 34,
   "metadata": {},
   "outputs": [],
   "source": [
    "from pathlib import Path\n",
    "path = Path.cwd().parent\n",
    "data_path = str(path / 'data_files' / 'videos_info' /'playlist_info' / 'Dataset.csv')\n",
    "\n",
    "final_dataset.to_csv(data_path, sep=',', index=False)"
   ]
  },
  {
   "cell_type": "code",
   "execution_count": 35,
   "metadata": {},
   "outputs": [
    {
     "data": {
      "text/html": [
       "<div>\n",
       "<style scoped>\n",
       "    .dataframe tbody tr th:only-of-type {\n",
       "        vertical-align: middle;\n",
       "    }\n",
       "\n",
       "    .dataframe tbody tr th {\n",
       "        vertical-align: top;\n",
       "    }\n",
       "\n",
       "    .dataframe thead th {\n",
       "        text-align: right;\n",
       "    }\n",
       "</style>\n",
       "<table border=\"1\" class=\"dataframe\">\n",
       "  <thead>\n",
       "    <tr style=\"text-align: right;\">\n",
       "      <th></th>\n",
       "      <th>title</th>\n",
       "      <th>url</th>\n",
       "      <th>id</th>\n",
       "      <th>start</th>\n",
       "      <th>end</th>\n",
       "      <th>duration</th>\n",
       "      <th>text</th>\n",
       "    </tr>\n",
       "  </thead>\n",
       "  <tbody>\n",
       "    <tr>\n",
       "      <th>0</th>\n",
       "      <td>A Gentle Introduction to Machine Learning</td>\n",
       "      <td>https://www.youtube.com/watch?v=Gv9_4yMHFhI</td>\n",
       "      <td>Gv9_4yMHFhI</td>\n",
       "      <td>0.00</td>\n",
       "      <td>20.00</td>\n",
       "      <td>20.000000</td>\n",
       "      <td>Gonna start this stack quest with the silly s...</td>\n",
       "    </tr>\n",
       "    <tr>\n",
       "      <th>1</th>\n",
       "      <td>A Gentle Introduction to Machine Learning</td>\n",
       "      <td>https://www.youtube.com/watch?v=Gv9_4yMHFhI</td>\n",
       "      <td>Gv9_4yMHFhI</td>\n",
       "      <td>21.00</td>\n",
       "      <td>41.00</td>\n",
       "      <td>20.000000</td>\n",
       "      <td>Note, this stack quest was originally prepare...</td>\n",
       "    </tr>\n",
       "    <tr>\n",
       "      <th>2</th>\n",
       "      <td>A Gentle Introduction to Machine Learning</td>\n",
       "      <td>https://www.youtube.com/watch?v=Gv9_4yMHFhI</td>\n",
       "      <td>Gv9_4yMHFhI</td>\n",
       "      <td>42.00</td>\n",
       "      <td>69.00</td>\n",
       "      <td>27.000000</td>\n",
       "      <td>If you like silly songs, are you interested i...</td>\n",
       "    </tr>\n",
       "    <tr>\n",
       "      <th>3</th>\n",
       "      <td>A Gentle Introduction to Machine Learning</td>\n",
       "      <td>https://www.youtube.com/watch?v=Gv9_4yMHFhI</td>\n",
       "      <td>Gv9_4yMHFhI</td>\n",
       "      <td>69.00</td>\n",
       "      <td>97.00</td>\n",
       "      <td>28.000000</td>\n",
       "      <td>Why not why? If you don't like silly songs, a...</td>\n",
       "    </tr>\n",
       "    <tr>\n",
       "      <th>4</th>\n",
       "      <td>A Gentle Introduction to Machine Learning</td>\n",
       "      <td>https://www.youtube.com/watch?v=Gv9_4yMHFhI</td>\n",
       "      <td>Gv9_4yMHFhI</td>\n",
       "      <td>98.00</td>\n",
       "      <td>127.00</td>\n",
       "      <td>29.000000</td>\n",
       "      <td>Otherwise, you might not like Stack Quest. Wh...</td>\n",
       "    </tr>\n",
       "    <tr>\n",
       "      <th>...</th>\n",
       "      <td>...</td>\n",
       "      <td>...</td>\n",
       "      <td>...</td>\n",
       "      <td>...</td>\n",
       "      <td>...</td>\n",
       "      <td>...</td>\n",
       "      <td>...</td>\n",
       "    </tr>\n",
       "    <tr>\n",
       "      <th>90628</th>\n",
       "      <td>GLOM: How to represent part-whole hierarchies ...</td>\n",
       "      <td>https://youtu.be/cllFzkvrYmE</td>\n",
       "      <td>cllFzkvrYmE-t3716.04</td>\n",
       "      <td>3716.04</td>\n",
       "      <td>3769.80</td>\n",
       "      <td>53.760010</td>\n",
       "      <td>already taken Sorry. I also by the way, also c...</td>\n",
       "    </tr>\n",
       "    <tr>\n",
       "      <th>90629</th>\n",
       "      <td>GLOM: How to represent part-whole hierarchies ...</td>\n",
       "      <td>https://youtu.be/cllFzkvrYmE</td>\n",
       "      <td>cllFzkvrYmE-t3742.44</td>\n",
       "      <td>3742.44</td>\n",
       "      <td>3788.92</td>\n",
       "      <td>46.479980</td>\n",
       "      <td>It has a bunch of parts that are maybe not sup...</td>\n",
       "    </tr>\n",
       "    <tr>\n",
       "      <th>90630</th>\n",
       "      <td>GLOM: How to represent part-whole hierarchies ...</td>\n",
       "      <td>https://youtu.be/cllFzkvrYmE</td>\n",
       "      <td>cllFzkvrYmE-t3759.36</td>\n",
       "      <td>3759.36</td>\n",
       "      <td>3819.72</td>\n",
       "      <td>60.359863</td>\n",
       "      <td>might be a bit tricky. And, but the rest and t...</td>\n",
       "    </tr>\n",
       "    <tr>\n",
       "      <th>90631</th>\n",
       "      <td>GLOM: How to represent part-whole hierarchies ...</td>\n",
       "      <td>https://youtu.be/cllFzkvrYmE</td>\n",
       "      <td>cllFzkvrYmE-t3776.36</td>\n",
       "      <td>3776.36</td>\n",
       "      <td>3819.72</td>\n",
       "      <td>43.359863</td>\n",
       "      <td>happens, maybe there's a CNN, maybe the CNN fe...</td>\n",
       "    </tr>\n",
       "    <tr>\n",
       "      <th>90632</th>\n",
       "      <td>GLOM: How to represent part-whole hierarchies ...</td>\n",
       "      <td>https://youtu.be/cllFzkvrYmE</td>\n",
       "      <td>cllFzkvrYmE-t3797.32</td>\n",
       "      <td>3797.32</td>\n",
       "      <td>3819.72</td>\n",
       "      <td>22.399902</td>\n",
       "      <td>give this thing a read, give this video a like...</td>\n",
       "    </tr>\n",
       "  </tbody>\n",
       "</table>\n",
       "<p>90633 rows × 7 columns</p>\n",
       "</div>"
      ],
      "text/plain": [
       "                                                   title  \\\n",
       "0              A Gentle Introduction to Machine Learning   \n",
       "1              A Gentle Introduction to Machine Learning   \n",
       "2              A Gentle Introduction to Machine Learning   \n",
       "3              A Gentle Introduction to Machine Learning   \n",
       "4              A Gentle Introduction to Machine Learning   \n",
       "...                                                  ...   \n",
       "90628  GLOM: How to represent part-whole hierarchies ...   \n",
       "90629  GLOM: How to represent part-whole hierarchies ...   \n",
       "90630  GLOM: How to represent part-whole hierarchies ...   \n",
       "90631  GLOM: How to represent part-whole hierarchies ...   \n",
       "90632  GLOM: How to represent part-whole hierarchies ...   \n",
       "\n",
       "                                               url                    id  \\\n",
       "0      https://www.youtube.com/watch?v=Gv9_4yMHFhI           Gv9_4yMHFhI   \n",
       "1      https://www.youtube.com/watch?v=Gv9_4yMHFhI           Gv9_4yMHFhI   \n",
       "2      https://www.youtube.com/watch?v=Gv9_4yMHFhI           Gv9_4yMHFhI   \n",
       "3      https://www.youtube.com/watch?v=Gv9_4yMHFhI           Gv9_4yMHFhI   \n",
       "4      https://www.youtube.com/watch?v=Gv9_4yMHFhI           Gv9_4yMHFhI   \n",
       "...                                            ...                   ...   \n",
       "90628                 https://youtu.be/cllFzkvrYmE  cllFzkvrYmE-t3716.04   \n",
       "90629                 https://youtu.be/cllFzkvrYmE  cllFzkvrYmE-t3742.44   \n",
       "90630                 https://youtu.be/cllFzkvrYmE  cllFzkvrYmE-t3759.36   \n",
       "90631                 https://youtu.be/cllFzkvrYmE  cllFzkvrYmE-t3776.36   \n",
       "90632                 https://youtu.be/cllFzkvrYmE  cllFzkvrYmE-t3797.32   \n",
       "\n",
       "         start      end   duration  \\\n",
       "0         0.00    20.00  20.000000   \n",
       "1        21.00    41.00  20.000000   \n",
       "2        42.00    69.00  27.000000   \n",
       "3        69.00    97.00  28.000000   \n",
       "4        98.00   127.00  29.000000   \n",
       "...        ...      ...        ...   \n",
       "90628  3716.04  3769.80  53.760010   \n",
       "90629  3742.44  3788.92  46.479980   \n",
       "90630  3759.36  3819.72  60.359863   \n",
       "90631  3776.36  3819.72  43.359863   \n",
       "90632  3797.32  3819.72  22.399902   \n",
       "\n",
       "                                                    text  \n",
       "0       Gonna start this stack quest with the silly s...  \n",
       "1       Note, this stack quest was originally prepare...  \n",
       "2       If you like silly songs, are you interested i...  \n",
       "3       Why not why? If you don't like silly songs, a...  \n",
       "4       Otherwise, you might not like Stack Quest. Wh...  \n",
       "...                                                  ...  \n",
       "90628  already taken Sorry. I also by the way, also c...  \n",
       "90629  It has a bunch of parts that are maybe not sup...  \n",
       "90630  might be a bit tricky. And, but the rest and t...  \n",
       "90631  happens, maybe there's a CNN, maybe the CNN fe...  \n",
       "90632  give this thing a read, give this video a like...  \n",
       "\n",
       "[90633 rows x 7 columns]"
      ]
     },
     "execution_count": 35,
     "metadata": {},
     "output_type": "execute_result"
    }
   ],
   "source": [
    "final_dataset"
   ]
  },
  {
   "cell_type": "code",
   "execution_count": null,
   "metadata": {},
   "outputs": [],
   "source": []
  },
  {
   "cell_type": "code",
   "execution_count": null,
   "metadata": {},
   "outputs": [],
   "source": []
  }
 ],
 "metadata": {
  "kernelspec": {
   "display_name": "Python 3",
   "language": "python",
   "name": "python3"
  },
  "language_info": {
   "codemirror_mode": {
    "name": "ipython",
    "version": 3
   },
   "file_extension": ".py",
   "mimetype": "text/x-python",
   "name": "python",
   "nbconvert_exporter": "python",
   "pygments_lexer": "ipython3",
   "version": "3.8.16"
  },
  "orig_nbformat": 4
 },
 "nbformat": 4,
 "nbformat_minor": 2
}
